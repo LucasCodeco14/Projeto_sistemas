{
 "cells": [
  {
   "cell_type": "markdown",
   "metadata": {},
   "source": [
    "#### Criar ambiente virtual"
   ]
  },
  {
   "cell_type": "code",
   "execution_count": null,
   "metadata": {
    "vscode": {
     "languageId": "powershell"
    }
   },
   "outputs": [],
   "source": [
    "# Criar ambiente virtual\n",
    "python -m venv chefshare_env\n",
    "\n",
    "# Ativar ambiente virtual\n",
    "chefshare_env\\Scripts\\activate\n",
    "\n",
    "# instalar django no venv\n",
    "pip install django"
   ]
  },
  {
   "cell_type": "markdown",
   "metadata": {},
   "source": [
    "### 1. Criação do Projeto"
   ]
  },
  {
   "cell_type": "markdown",
   "metadata": {},
   "source": [
    "#### Executar os trechos abaixo no terminal"
   ]
  },
  {
   "cell_type": "code",
   "execution_count": null,
   "metadata": {
    "vscode": {
     "languageId": "powershell"
    }
   },
   "outputs": [],
   "source": [
    "# Iniciar o projeto\n",
    "django-admin startproject chefshare\n",
    "cd chefshare\n",
    "python manage.py startapp receitas"
   ]
  },
  {
   "cell_type": "markdown",
   "metadata": {},
   "source": [
    "A estrutura inicial será algo assim:\n",
    "\n",
    "chefshare/\n",
    "\n",
    "├── chefshare/  \n",
    "│   ├── `__init__`.py  \n",
    "│   ├── settings.py  \n",
    "│   ├── urls.py  \n",
    "│   ├── wsgi.py  \n",
    "│   └── asgi.py  \n",
    "├── receitas/  \n",
    "│   ├── migrations/  \n",
    "│   ├── `__init__`.py  \n",
    "│   ├── admin.py  \n",
    "│   ├── apps.py  \n",
    "│   ├── models.py  \n",
    "│   ├── tests.py  \n",
    "│   └── views.py  \n",
    "└── manage.py  "
   ]
  },
  {
   "cell_type": "markdown",
   "metadata": {},
   "source": [
    "### 2. Configurações"
   ]
  },
  {
   "cell_type": "markdown",
   "metadata": {},
   "source": [
    "#### Configurar Apps do projeto\n",
    "No arquivo settings.py, dentro da pasta chefshare, adicione o __\"app receitas\"__ na lista de INSTALLED_APPS em Application definition.  \n",
    "O código abaixo substituirá o trecho no arquivo.\n",
    "\n",
    "No arquivo urls.py do projeto, importe e inclua as URLs do app recipes."
   ]
  },
  {
   "cell_type": "code",
   "execution_count": null,
   "metadata": {},
   "outputs": [],
   "source": [
    "### chefshare/settings.py\n",
    "## Application definition\n",
    "INSTALLED_APPS = [\n",
    "    # Apps padrões do Django\n",
    "    'django.contrib.admin',\n",
    "    'django.contrib.auth',\n",
    "    'django.contrib.contenttypes',\n",
    "    'django.contrib.sessions',\n",
    "    'django.contrib.messages',\n",
    "    'django.contrib.staticfiles',\n",
    "\n",
    "    # Apps do projeto\n",
    "    'receitas',\n",
    "]\n",
    "\n",
    "# chefshare/urls.py\n",
    "from django.contrib import admin\n",
    "from django.urls import path, include\n",
    "\n",
    "urlpatterns = [\n",
    "    path('admin/', admin.site.urls),\n",
    "    path('receitas/', include('receitas.urls')),  # Inclui as URLs do app de receitas\n",
    "]"
   ]
  },
  {
   "cell_type": "markdown",
   "metadata": {},
   "source": [
    "#### Configurar as URLs e as Views\n"
   ]
  },
  {
   "cell_type": "markdown",
   "metadata": {},
   "source": [
    "#### Configure a Estrutura de Banco de Dados\n",
    "Para definir o modelo de receitas, edite o arquivo models.py do app receitas.\n",
    "\n",
    "Exemplo básico de como poderia ser o modelo de uma receita segue abaixo.  \n",
    "Esse modelo define uma receita com nome, ingredientes, instruções, tempo de preparo e data de criação.\n",
    "\n",
    "No arquivo views.py do app receitas, defina a view receita_list para exibir as receitas.\n",
    "\n",
    "No app receitas, crie um arquivo urls.py e configure uma view simples para listar receitas:\n"
   ]
  },
  {
   "cell_type": "code",
   "execution_count": null,
   "metadata": {},
   "outputs": [],
   "source": [
    "# receitas/models.py\n",
    "from django.db import models\n",
    "\n",
    "class receita(models.Model):\n",
    "    nome = models.CharField(max_length=100)\n",
    "    ingredientes = models.TextField()\n",
    "    instrucoes = models.TextField()\n",
    "    prep_time = models.IntegerField(help_text=\"Tempo de preparacao em minutos\")\n",
    "    criacao = models.DateTimeField(auto_now_add=True)\n",
    "\n",
    "    def __str__(self):\n",
    "        return self.nome\n",
    "\n",
    "\n",
    "# receitas/views.py\n",
    "from django.shortcuts import render\n",
    "from .models import receita\n",
    "from django.http import HttpResponse\n",
    "\n",
    "def receitas_list(request):\n",
    "    receitas = receita.objects.all()\n",
    "    return render(request, 'receitas/receitas_list.html', {'receitas': receitas})\n",
    "\n",
    "\n",
    "# receitas/urls.py\n",
    "from django.urls import path\n",
    "from . import views\n",
    "\n",
    "urlpatterns = [\n",
    "    path('', views.receitas_list, name='receitas_list'),\n",
    "]"
   ]
  },
  {
   "cell_type": "markdown",
   "metadata": {},
   "source": [
    "### 3. Template\n",
    "Dentro da pasta receitas, crie uma pasta templates/receitas e adicione um arquivo receita_list.html com o html abaixo.\n"
   ]
  },
  {
   "cell_type": "code",
   "execution_count": null,
   "metadata": {
    "vscode": {
     "languageId": "html"
    }
   },
   "outputs": [],
   "source": [
    "<!-- receitas/templates/receitas/receita_list.html -->\n",
    "<!DOCTYPE html>\n",
    "<html lang=\"pt\">\n",
    "<head>\n",
    "    <meta charset=\"UTF-8\">\n",
    "    <title>ChefShare - receitas</title>\n",
    "</head>\n",
    "<body>\n",
    "    <h1>receitas</h1>\n",
    "    <ul>\n",
    "        {% for receita in receitas %}\n",
    "            <li>{{ receita.name }} - {{ receita.prep_time }} mins</li>\n",
    "        {% empty %}\n",
    "            <li>No receitas found.</li>\n",
    "        {% endfor %}\n",
    "    </ul>\n",
    "</body>\n",
    "</html>\n"
   ]
  },
  {
   "cell_type": "markdown",
   "metadata": {},
   "source": [
    "### 4. Migrar o banco de Dados\n",
    "Para salvar o modelo receita no banco de dados, faça as migrações no terminal:\n"
   ]
  },
  {
   "cell_type": "code",
   "execution_count": null,
   "metadata": {
    "vscode": {
     "languageId": "powershell"
    }
   },
   "outputs": [],
   "source": [
    "python manage.py makemigrations\n",
    "python manage.py migrate"
   ]
  },
  {
   "cell_type": "markdown",
   "metadata": {},
   "source": [
    "### Criar um Super User e Executar o Servidor\n",
    "Para acessar o Django Admin e adicionar receitas, vamos criar um superusuário e executar o server:\n"
   ]
  },
  {
   "cell_type": "code",
   "execution_count": null,
   "metadata": {
    "vscode": {
     "languageId": "powershell"
    }
   },
   "outputs": [],
   "source": [
    "# cria um superusuario\n",
    "python manage.py createsuperuser\n",
    "\n",
    "# name: lucas.codeco\n",
    "# email: lucas.codeco@gmail.com\n",
    "# password: chefshare"
   ]
  },
  {
   "cell_type": "code",
   "execution_count": null,
   "metadata": {
    "vscode": {
     "languageId": "powershell"
    }
   },
   "outputs": [],
   "source": [
    "# Executar o servidor\n",
    "python manage.py runserver\n"
   ]
  },
  {
   "cell_type": "markdown",
   "metadata": {},
   "source": [
    "Acesse http://127.0.0.1:8000/receitas/ para ver a lista de receitas  \n",
    "Acesse http://127.0.0.1:8000/admin/ para gerenciar as receitas pelo painel de administração\n",
    "\n"
   ]
  }
 ],
 "metadata": {
  "kernelspec": {
   "display_name": "Python 3",
   "language": "python",
   "name": "python3"
  },
  "language_info": {
   "codemirror_mode": {
    "name": "ipython",
    "version": 3
   },
   "file_extension": ".py",
   "mimetype": "text/x-python",
   "name": "python",
   "nbconvert_exporter": "python",
   "pygments_lexer": "ipython3",
   "version": "3.11.3"
  }
 },
 "nbformat": 4,
 "nbformat_minor": 2
}
